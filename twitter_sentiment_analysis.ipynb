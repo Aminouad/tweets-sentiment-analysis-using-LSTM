{
  "nbformat": 4,
  "nbformat_minor": 0,
  "metadata": {
    "kernelspec": {
      "language": "python",
      "display_name": "Python 3",
      "name": "python3"
    },
    "language_info": {
      "name": "python",
      "version": "3.7.10",
      "mimetype": "text/x-python",
      "codemirror_mode": {
        "name": "ipython",
        "version": 3
      },
      "pygments_lexer": "ipython3",
      "nbconvert_exporter": "python",
      "file_extension": ".py"
    },
    "colab": {
      "name": "twitter-sentiment-analysis.ipynb",
      "provenance": [],
      "collapsed_sections": []
    }
  },
  "cells": [
    {
      "cell_type": "code",
      "metadata": {
        "execution": {
          "iopub.status.busy": "2021-07-03T18:16:22.476555Z",
          "iopub.execute_input": "2021-07-03T18:16:22.477162Z",
          "iopub.status.idle": "2021-07-03T18:17:13.134006Z",
          "shell.execute_reply.started": "2021-07-03T18:16:22.477091Z",
          "shell.execute_reply": "2021-07-03T18:17:13.132803Z"
        },
        "trusted": true,
        "id": "IBNn33h7e21u",
        "outputId": "9ef406b9-e3c3-4d6a-b621-5dc477dad8c5"
      },
      "source": [
        "!pip install gensim --upgrade\n"
      ],
      "execution_count": null,
      "outputs": [
        {
          "output_type": "stream",
          "text": [
            "Requirement already satisfied: gensim in /opt/conda/lib/python3.7/site-packages (4.0.1)\n",
            "Requirement already satisfied: smart-open>=1.8.1 in /opt/conda/lib/python3.7/site-packages (from gensim) (5.0.0)\n",
            "Requirement already satisfied: scipy>=0.18.1 in /opt/conda/lib/python3.7/site-packages (from gensim) (1.5.4)\n",
            "Requirement already satisfied: numpy>=1.11.3 in /opt/conda/lib/python3.7/site-packages (from gensim) (1.19.5)\n",
            "Requirement already satisfied: keras in /opt/conda/lib/python3.7/site-packages (2.4.3)\n",
            "Requirement already satisfied: numpy>=1.9.1 in /opt/conda/lib/python3.7/site-packages (from keras) (1.19.5)\n",
            "Requirement already satisfied: pyyaml in /opt/conda/lib/python3.7/site-packages (from keras) (5.3.1)\n",
            "Requirement already satisfied: h5py in /opt/conda/lib/python3.7/site-packages (from keras) (2.10.0)\n",
            "Requirement already satisfied: scipy>=0.14 in /opt/conda/lib/python3.7/site-packages (from keras) (1.5.4)\n",
            "Requirement already satisfied: six in /opt/conda/lib/python3.7/site-packages (from h5py->keras) (1.15.0)\n",
            "Requirement already satisfied: pandas in /opt/conda/lib/python3.7/site-packages (1.1.5)\n",
            "Collecting pandas\n",
            "  Downloading pandas-1.3.0-cp37-cp37m-manylinux_2_5_x86_64.manylinux1_x86_64.whl (10.8 MB)\n",
            "\u001b[K     |████████████████████████████████| 10.8 MB 4.1 MB/s eta 0:00:01\n",
            "\u001b[?25hRequirement already satisfied: pytz>=2017.3 in /opt/conda/lib/python3.7/site-packages (from pandas) (2021.1)\n",
            "Requirement already satisfied: numpy>=1.17.3 in /opt/conda/lib/python3.7/site-packages (from pandas) (1.19.5)\n",
            "Requirement already satisfied: python-dateutil>=2.7.3 in /opt/conda/lib/python3.7/site-packages (from pandas) (2.8.1)\n",
            "Requirement already satisfied: six>=1.5 in /opt/conda/lib/python3.7/site-packages (from python-dateutil>=2.7.3->pandas) (1.15.0)\n",
            "Installing collected packages: pandas\n",
            "  Attempting uninstall: pandas\n",
            "    Found existing installation: pandas 1.1.5\n",
            "    Uninstalling pandas-1.1.5:\n",
            "      Successfully uninstalled pandas-1.1.5\n",
            "\u001b[31mERROR: pip's dependency resolver does not currently take into account all the packages that are installed. This behaviour is the source of the following dependency conflicts.\n",
            "pyldavis 3.3.1 requires numpy>=1.20.0, but you have numpy 1.19.5 which is incompatible.\n",
            "pdpbox 0.2.1 requires matplotlib==3.1.1, but you have matplotlib 3.4.1 which is incompatible.\u001b[0m\n",
            "Successfully installed pandas-1.3.0\n"
          ],
          "name": "stdout"
        }
      ]
    },
    {
      "cell_type": "code",
      "metadata": {
        "execution": {
          "iopub.status.busy": "2021-07-04T04:17:10.009781Z",
          "iopub.execute_input": "2021-07-04T04:17:10.010219Z",
          "iopub.status.idle": "2021-07-04T04:17:18.746836Z",
          "shell.execute_reply.started": "2021-07-04T04:17:10.010107Z",
          "shell.execute_reply": "2021-07-04T04:17:18.745716Z"
        },
        "trusted": true,
        "id": "0RzM-ylue21v"
      },
      "source": [
        "# DataFrame\n",
        "import pandas as pd\n",
        "\n",
        "# Matplot\n",
        "import matplotlib.pyplot as plt\n",
        "%matplotlib inline\n",
        "\n",
        "# Scikit-learn\n",
        "from sklearn.model_selection import train_test_split\n",
        "from sklearn.preprocessing import LabelEncoder\n",
        "from sklearn.metrics import confusion_matrix, classification_report, accuracy_score\n",
        "from sklearn.manifold import TSNE\n",
        "from sklearn.feature_extraction.text import TfidfVectorizer\n",
        "\n",
        "# Keras\n",
        "from keras.preprocessing.text import Tokenizer\n",
        "from keras.preprocessing.sequence import pad_sequences\n",
        "from keras.models import Sequential\n",
        "from keras.layers import Activation, Dense, Dropout, Embedding, Flatten, Conv1D, MaxPooling1D, LSTM\n",
        "from keras import utils\n",
        "from keras.callbacks import ReduceLROnPlateau, EarlyStopping\n",
        "\n",
        "# nltk\n",
        "import nltk\n",
        "from nltk.corpus import stopwords\n",
        "from  nltk.stem import SnowballStemmer\n",
        "\n",
        "# Word2vec\n",
        "import gensim\n",
        "\n",
        "# Utility\n",
        "import re\n",
        "import numpy as np\n",
        "import os\n",
        "from collections import Counter\n",
        "import logging\n",
        "import time\n",
        "import pickle\n",
        "import itertools\n",
        "\n",
        "# Set log\n",
        "logging.basicConfig(format='%(asctime)s : %(levelname)s : %(message)s', level=logging.INFO)"
      ],
      "execution_count": null,
      "outputs": []
    },
    {
      "cell_type": "code",
      "metadata": {
        "execution": {
          "iopub.status.busy": "2021-07-04T04:17:18.750072Z",
          "iopub.execute_input": "2021-07-04T04:17:18.750840Z",
          "iopub.status.idle": "2021-07-04T04:17:18.914447Z",
          "shell.execute_reply.started": "2021-07-04T04:17:18.750781Z",
          "shell.execute_reply": "2021-07-04T04:17:18.913211Z"
        },
        "trusted": true,
        "id": "5MnVlvjZe21x",
        "outputId": "1adf2411-1b05-4851-9e74-ded850ab1de4"
      },
      "source": [
        "nltk.download('stopwords')\n"
      ],
      "execution_count": null,
      "outputs": [
        {
          "output_type": "stream",
          "text": [
            "[nltk_data] Downloading package stopwords to /usr/share/nltk_data...\n",
            "[nltk_data]   Package stopwords is already up-to-date!\n"
          ],
          "name": "stdout"
        },
        {
          "output_type": "execute_result",
          "data": {
            "text/plain": [
              "True"
            ]
          },
          "metadata": {
            "tags": []
          },
          "execution_count": 2
        }
      ]
    },
    {
      "cell_type": "code",
      "metadata": {
        "execution": {
          "iopub.status.busy": "2021-07-04T04:17:23.149777Z",
          "iopub.execute_input": "2021-07-04T04:17:23.150190Z",
          "iopub.status.idle": "2021-07-04T04:17:23.157648Z",
          "shell.execute_reply.started": "2021-07-04T04:17:23.150157Z",
          "shell.execute_reply": "2021-07-04T04:17:23.156400Z"
        },
        "trusted": true,
        "id": "2bmx1Kboe21x"
      },
      "source": [
        "# DATASET\n",
        "DATASET_COLUMNS = [\"target\", \"ids\", \"date\", \"flag\", \"user\", \"text\"]\n",
        "DATASET_ENCODING = \"ISO-8859-1\"\n",
        "TRAIN_SIZE = 0.8\n",
        "\n",
        "# TEXT CLENAING\n",
        "TEXT_CLEANING_RE = \"@\\S+|https?:\\S+|http?:\\S|[^A-Za-z0-9]+\"\n",
        "\n",
        "# WORD2VEC \n",
        "W2V_SIZE = 300\n",
        "W2V_WINDOW = 7\n",
        "W2V_EPOCH = 32\n",
        "W2V_MIN_COUNT = 10\n",
        "\n",
        "# KERAS\n",
        "SEQUENCE_LENGTH = 300\n",
        "EPOCHS = 8\n",
        "BATCH_SIZE = 1024\n",
        "\n",
        "# SENTIMENT\n",
        "POSITIVE = \"POSITIVE\"\n",
        "NEGATIVE = \"NEGATIVE\"\n",
        "NEUTRAL = \"NEUTRAL\"\n",
        "SENTIMENT_THRESHOLDS = (0.4, 0.7)\n",
        "# EXPORT\n",
        "KERAS_MODEL = \"model.h5\"\n",
        "WORD2VEC_MODEL = \"model.w2v\"\n",
        "TOKENIZER_MODEL = \"tokenizer.pkl\"\n",
        "ENCODER_MODEL = \"encoder.pkl\""
      ],
      "execution_count": null,
      "outputs": []
    },
    {
      "cell_type": "code",
      "metadata": {
        "execution": {
          "iopub.status.busy": "2021-07-04T04:17:24.302234Z",
          "iopub.execute_input": "2021-07-04T04:17:24.302648Z",
          "iopub.status.idle": "2021-07-04T04:17:32.504783Z",
          "shell.execute_reply.started": "2021-07-04T04:17:24.302574Z",
          "shell.execute_reply": "2021-07-04T04:17:32.503668Z"
        },
        "trusted": true,
        "id": "a2D_bzk5e21y"
      },
      "source": [
        "\n",
        "df = pd.read_csv(\"../input/sentiment140/training.1600000.processed.noemoticon.csv\", encoding =DATASET_ENCODING , names=DATASET_COLUMNS)"
      ],
      "execution_count": null,
      "outputs": []
    },
    {
      "cell_type": "code",
      "metadata": {
        "execution": {
          "iopub.status.busy": "2021-07-04T04:17:32.506816Z",
          "iopub.execute_input": "2021-07-04T04:17:32.507261Z",
          "iopub.status.idle": "2021-07-04T04:17:32.514238Z",
          "shell.execute_reply.started": "2021-07-04T04:17:32.507215Z",
          "shell.execute_reply": "2021-07-04T04:17:32.512914Z"
        },
        "trusted": true,
        "id": "bMUdafeFe21z",
        "outputId": "8585fc9d-f8f2-4bcc-b00b-cbf7ea39d692"
      },
      "source": [
        "print(\"Dataset size:\", len(df))\n"
      ],
      "execution_count": null,
      "outputs": [
        {
          "output_type": "stream",
          "text": [
            "Dataset size: 1600000\n"
          ],
          "name": "stdout"
        }
      ]
    },
    {
      "cell_type": "code",
      "metadata": {
        "execution": {
          "iopub.status.busy": "2021-07-04T04:17:32.516821Z",
          "iopub.execute_input": "2021-07-04T04:17:32.517628Z",
          "iopub.status.idle": "2021-07-04T04:17:32.547113Z",
          "shell.execute_reply.started": "2021-07-04T04:17:32.517561Z",
          "shell.execute_reply": "2021-07-04T04:17:32.545748Z"
        },
        "trusted": true,
        "id": "edl9FXdbe21z",
        "outputId": "319f3521-bcc4-4b5a-a68a-ca1ebd999f84"
      },
      "source": [
        "df.head(3)\n"
      ],
      "execution_count": null,
      "outputs": [
        {
          "output_type": "execute_result",
          "data": {
            "text/plain": [
              "   target         ids                          date      flag  \\\n",
              "0       0  1467810369  Mon Apr 06 22:19:45 PDT 2009  NO_QUERY   \n",
              "1       0  1467810672  Mon Apr 06 22:19:49 PDT 2009  NO_QUERY   \n",
              "2       0  1467810917  Mon Apr 06 22:19:53 PDT 2009  NO_QUERY   \n",
              "\n",
              "              user                                               text  \n",
              "0  _TheSpecialOne_  @switchfoot http://twitpic.com/2y1zl - Awww, t...  \n",
              "1    scotthamilton  is upset that he can't update his Facebook by ...  \n",
              "2         mattycus  @Kenichan I dived many times for the ball. Man...  "
            ],
            "text/html": [
              "<div>\n",
              "<style scoped>\n",
              "    .dataframe tbody tr th:only-of-type {\n",
              "        vertical-align: middle;\n",
              "    }\n",
              "\n",
              "    .dataframe tbody tr th {\n",
              "        vertical-align: top;\n",
              "    }\n",
              "\n",
              "    .dataframe thead th {\n",
              "        text-align: right;\n",
              "    }\n",
              "</style>\n",
              "<table border=\"1\" class=\"dataframe\">\n",
              "  <thead>\n",
              "    <tr style=\"text-align: right;\">\n",
              "      <th></th>\n",
              "      <th>target</th>\n",
              "      <th>ids</th>\n",
              "      <th>date</th>\n",
              "      <th>flag</th>\n",
              "      <th>user</th>\n",
              "      <th>text</th>\n",
              "    </tr>\n",
              "  </thead>\n",
              "  <tbody>\n",
              "    <tr>\n",
              "      <th>0</th>\n",
              "      <td>0</td>\n",
              "      <td>1467810369</td>\n",
              "      <td>Mon Apr 06 22:19:45 PDT 2009</td>\n",
              "      <td>NO_QUERY</td>\n",
              "      <td>_TheSpecialOne_</td>\n",
              "      <td>@switchfoot http://twitpic.com/2y1zl - Awww, t...</td>\n",
              "    </tr>\n",
              "    <tr>\n",
              "      <th>1</th>\n",
              "      <td>0</td>\n",
              "      <td>1467810672</td>\n",
              "      <td>Mon Apr 06 22:19:49 PDT 2009</td>\n",
              "      <td>NO_QUERY</td>\n",
              "      <td>scotthamilton</td>\n",
              "      <td>is upset that he can't update his Facebook by ...</td>\n",
              "    </tr>\n",
              "    <tr>\n",
              "      <th>2</th>\n",
              "      <td>0</td>\n",
              "      <td>1467810917</td>\n",
              "      <td>Mon Apr 06 22:19:53 PDT 2009</td>\n",
              "      <td>NO_QUERY</td>\n",
              "      <td>mattycus</td>\n",
              "      <td>@Kenichan I dived many times for the ball. Man...</td>\n",
              "    </tr>\n",
              "  </tbody>\n",
              "</table>\n",
              "</div>"
            ]
          },
          "metadata": {
            "tags": []
          },
          "execution_count": 6
        }
      ]
    },
    {
      "cell_type": "code",
      "metadata": {
        "execution": {
          "iopub.status.busy": "2021-07-04T04:17:32.549541Z",
          "iopub.execute_input": "2021-07-04T04:17:32.550060Z",
          "iopub.status.idle": "2021-07-04T04:17:32.556095Z",
          "shell.execute_reply.started": "2021-07-04T04:17:32.550002Z",
          "shell.execute_reply": "2021-07-04T04:17:32.554583Z"
        },
        "trusted": true,
        "id": "m0VLwjfxe210"
      },
      "source": [
        "decode_map = {0: \"NEGATIVE\", 2: \"NEUTRAL\", 4: \"POSITIVE\"}\n",
        "def decode_sentiment(label):\n",
        "    return decode_map[int(label)]"
      ],
      "execution_count": null,
      "outputs": []
    },
    {
      "cell_type": "code",
      "metadata": {
        "execution": {
          "iopub.status.busy": "2021-07-04T04:17:32.557667Z",
          "iopub.execute_input": "2021-07-04T04:17:32.558406Z",
          "iopub.status.idle": "2021-07-04T04:17:33.403466Z",
          "shell.execute_reply.started": "2021-07-04T04:17:32.558360Z",
          "shell.execute_reply": "2021-07-04T04:17:33.402260Z"
        },
        "trusted": true,
        "id": "FTXHjGRye211"
      },
      "source": [
        "df.target = df.target.apply(lambda x: decode_sentiment(x))\n"
      ],
      "execution_count": null,
      "outputs": []
    },
    {
      "cell_type": "code",
      "metadata": {
        "execution": {
          "iopub.status.busy": "2021-07-04T04:17:33.405704Z",
          "iopub.execute_input": "2021-07-04T04:17:33.406390Z",
          "iopub.status.idle": "2021-07-04T04:17:33.870560Z",
          "shell.execute_reply.started": "2021-07-04T04:17:33.406313Z",
          "shell.execute_reply": "2021-07-04T04:17:33.869110Z"
        },
        "trusted": true,
        "id": "rnfz-Yr4e211",
        "outputId": "b46885ae-b9ad-484d-ab07-72227ce2d82d"
      },
      "source": [
        "target_cnt = Counter(df.target)\n",
        "\n",
        "plt.figure(figsize=(16,8))\n",
        "plt.bar(target_cnt.keys(), target_cnt.values())\n",
        "plt.title(\"Dataset labels distribuition\")"
      ],
      "execution_count": null,
      "outputs": [
        {
          "output_type": "execute_result",
          "data": {
            "text/plain": [
              "Text(0.5, 1.0, 'Dataset labels distribuition')"
            ]
          },
          "metadata": {
            "tags": []
          },
          "execution_count": 9
        },
        {
          "output_type": "display_data",
          "data": {
            "text/plain": [
              "<Figure size 1152x576 with 1 Axes>"
            ],
            "image/png": "[encoded data removed]"
          },
          "metadata": {
            "tags": [],
            "needs_background": "light"
          }
        }
      ]
    },
    {
      "cell_type": "code",
      "metadata": {
        "execution": {
          "iopub.status.busy": "2021-07-04T04:17:33.873087Z",
          "iopub.execute_input": "2021-07-04T04:17:33.873555Z",
          "iopub.status.idle": "2021-07-04T04:17:33.900634Z",
          "shell.execute_reply.started": "2021-07-04T04:17:33.873508Z",
          "shell.execute_reply": "2021-07-04T04:17:33.899557Z"
        },
        "trusted": true,
        "id": "usWTCGqce212"
      },
      "source": [
        "stop_words = stopwords.words(\"english\")\n",
        "stemmer = SnowballStemmer(\"english\")"
      ],
      "execution_count": null,
      "outputs": []
    },
    {
      "cell_type": "code",
      "metadata": {
        "execution": {
          "iopub.status.busy": "2021-07-04T04:17:33.902205Z",
          "iopub.execute_input": "2021-07-04T04:17:33.902532Z",
          "iopub.status.idle": "2021-07-04T04:17:33.909915Z",
          "shell.execute_reply.started": "2021-07-04T04:17:33.902486Z",
          "shell.execute_reply": "2021-07-04T04:17:33.908194Z"
        },
        "trusted": true,
        "id": "gQ9cJmPce212"
      },
      "source": [
        "def preprocess(text, stem=False):\n",
        "    # Remove link,user and special characters\n",
        "    text = re.sub(TEXT_CLEANING_RE, ' ', str(text).lower()).strip()\n",
        "    tokens = []\n",
        "    for token in text.split():\n",
        "        if token not in stop_words:\n",
        "            if stem:\n",
        "                tokens.append(stemmer.stem(token))\n",
        "            else:\n",
        "                tokens.append(token)\n",
        "    return \" \".join(tokens)"
      ],
      "execution_count": null,
      "outputs": []
    },
    {
      "cell_type": "code",
      "metadata": {
        "execution": {
          "iopub.status.busy": "2021-07-04T04:17:34.434976Z",
          "iopub.execute_input": "2021-07-04T04:17:34.435343Z",
          "iopub.status.idle": "2021-07-04T04:17:34.443013Z",
          "shell.execute_reply.started": "2021-07-04T04:17:34.435311Z",
          "shell.execute_reply": "2021-07-04T04:17:34.441505Z"
        },
        "trusted": true,
        "id": "2_OiSLV4e213",
        "outputId": "f4968ee1-0c43-490a-9a73-e95c9789ffb3"
      },
      "source": [
        "preprocess(\"I want to go to school\")"
      ],
      "execution_count": null,
      "outputs": [
        {
          "output_type": "execute_result",
          "data": {
            "text/plain": [
              "'want go school'"
            ]
          },
          "metadata": {
            "tags": []
          },
          "execution_count": 12
        }
      ]
    },
    {
      "cell_type": "code",
      "metadata": {
        "execution": {
          "iopub.status.busy": "2021-07-04T04:17:35.399111Z",
          "iopub.execute_input": "2021-07-04T04:17:35.399544Z",
          "iopub.status.idle": "2021-07-04T04:18:32.476484Z",
          "shell.execute_reply.started": "2021-07-04T04:17:35.399512Z",
          "shell.execute_reply": "2021-07-04T04:18:32.475125Z"
        },
        "trusted": true,
        "id": "A9WWeaN9e214"
      },
      "source": [
        "df.text = df.text.apply(lambda x: preprocess(x))\n"
      ],
      "execution_count": null,
      "outputs": []
    },
    {
      "cell_type": "code",
      "metadata": {
        "execution": {
          "iopub.status.busy": "2021-07-04T04:18:32.478381Z",
          "iopub.execute_input": "2021-07-04T04:18:32.479036Z",
          "iopub.status.idle": "2021-07-04T04:18:34.125052Z",
          "shell.execute_reply.started": "2021-07-04T04:18:32.478989Z",
          "shell.execute_reply": "2021-07-04T04:18:34.123793Z"
        },
        "trusted": true,
        "id": "_15kFlW3e214"
      },
      "source": [
        "df_train, df_test = train_test_split(df, test_size=1-TRAIN_SIZE, random_state=42)\n"
      ],
      "execution_count": null,
      "outputs": []
    },
    {
      "cell_type": "code",
      "metadata": {
        "execution": {
          "iopub.status.busy": "2021-07-04T04:18:34.131497Z",
          "iopub.execute_input": "2021-07-04T04:18:34.134153Z",
          "iopub.status.idle": "2021-07-04T04:18:37.849482Z",
          "shell.execute_reply.started": "2021-07-04T04:18:34.134094Z",
          "shell.execute_reply": "2021-07-04T04:18:37.848206Z"
        },
        "trusted": true,
        "id": "AvMM0fSte214",
        "outputId": "e101cf8f-2771-4450-ad87-b509da745d88"
      },
      "source": [
        "%%time\n",
        "documents = [_text.split() for _text in df_train.text] "
      ],
      "execution_count": null,
      "outputs": [
        {
          "output_type": "stream",
          "text": [
            "CPU times: user 3.32 s, sys: 369 ms, total: 3.69 s\n",
            "Wall time: 3.71 s\n"
          ],
          "name": "stdout"
        }
      ]
    },
    {
      "cell_type": "code",
      "metadata": {
        "execution": {
          "iopub.status.busy": "2021-07-04T04:18:37.851718Z",
          "iopub.execute_input": "2021-07-04T04:18:37.852388Z",
          "iopub.status.idle": "2021-07-04T04:18:37.859942Z",
          "shell.execute_reply.started": "2021-07-04T04:18:37.852339Z",
          "shell.execute_reply": "2021-07-04T04:18:37.858881Z"
        },
        "trusted": true,
        "id": "3kQ8e9DBe215"
      },
      "source": [
        "w2v_model = gensim.models.word2vec.Word2Vec(vector_size=W2V_SIZE, \n",
        "                                            window=W2V_WINDOW, \n",
        "                                            min_count=W2V_MIN_COUNT, \n",
        "                                            workers=8)"
      ],
      "execution_count": null,
      "outputs": []
    },
    {
      "cell_type": "code",
      "metadata": {
        "execution": {
          "iopub.status.busy": "2021-07-04T04:18:37.861454Z",
          "iopub.execute_input": "2021-07-04T04:18:37.862115Z",
          "iopub.status.idle": "2021-07-04T04:18:42.348821Z",
          "shell.execute_reply.started": "2021-07-04T04:18:37.862069Z",
          "shell.execute_reply": "2021-07-04T04:18:42.347685Z"
        },
        "trusted": true,
        "id": "862w_9RUe215"
      },
      "source": [
        "w2v_model.build_vocab(documents)\n"
      ],
      "execution_count": null,
      "outputs": []
    },
    {
      "cell_type": "code",
      "metadata": {
        "execution": {
          "iopub.status.busy": "2021-07-04T04:18:42.350300Z",
          "iopub.execute_input": "2021-07-04T04:18:42.350749Z",
          "iopub.status.idle": "2021-07-04T04:18:42.357858Z",
          "shell.execute_reply.started": "2021-07-04T04:18:42.350709Z",
          "shell.execute_reply": "2021-07-04T04:18:42.356224Z"
        },
        "trusted": true,
        "id": "o0yBaQS0e215",
        "outputId": "feaab3af-1979-4e14-ac85-652e1fcc9ccc"
      },
      "source": [
        "words = w2v_model.wv.key_to_index.keys()\n",
        "vocab_size = len(words)\n",
        "print(\"Vocab size\", vocab_size)"
      ],
      "execution_count": null,
      "outputs": [
        {
          "output_type": "stream",
          "text": [
            "Vocab size 30369\n"
          ],
          "name": "stdout"
        }
      ]
    },
    {
      "cell_type": "code",
      "metadata": {
        "execution": {
          "iopub.status.busy": "2021-07-04T04:18:42.359694Z",
          "iopub.execute_input": "2021-07-04T04:18:42.360436Z",
          "iopub.status.idle": "2021-07-04T04:31:49.996048Z",
          "shell.execute_reply.started": "2021-07-04T04:18:42.360380Z",
          "shell.execute_reply": "2021-07-04T04:31:49.994995Z"
        },
        "trusted": true,
        "id": "osJhnvQle216",
        "outputId": "c2d237b7-4afd-4dda-baa9-4f0af7df10c7"
      },
      "source": [
        "w2v_model.train(documents, total_examples=len(documents), epochs=W2V_EPOCH)\n"
      ],
      "execution_count": null,
      "outputs": [
        {
          "output_type": "execute_result",
          "data": {
            "text/plain": [
              "(263127095, 295270528)"
            ]
          },
          "metadata": {
            "tags": []
          },
          "execution_count": 19
        }
      ]
    },
    {
      "cell_type": "code",
      "metadata": {
        "execution": {
          "iopub.status.busy": "2021-07-04T04:31:49.999276Z",
          "iopub.execute_input": "2021-07-04T04:31:49.999785Z",
          "iopub.status.idle": "2021-07-04T04:31:50.039645Z",
          "shell.execute_reply.started": "2021-07-04T04:31:49.999724Z",
          "shell.execute_reply": "2021-07-04T04:31:50.038253Z"
        },
        "trusted": true,
        "id": "vx18G7BRe217",
        "outputId": "97b72a0e-9be7-4eb3-968c-cfbdf83f8d34"
      },
      "source": [
        "w2v_model.wv.most_similar(\"love\")\n"
      ],
      "execution_count": null,
      "outputs": [
        {
          "output_type": "execute_result",
          "data": {
            "text/plain": [
              "[('luv', 0.5652734041213989),\n",
              " ('loves', 0.5639346241950989),\n",
              " ('loved', 0.549359917640686),\n",
              " ('adore', 0.5149089097976685),\n",
              " ('amazing', 0.5104139447212219),\n",
              " ('looove', 0.4906314015388489),\n",
              " ('awesome', 0.4707435071468353),\n",
              " ('loveee', 0.43966835737228394),\n",
              " ('loooove', 0.43830201029777527),\n",
              " ('lovee', 0.4381437301635742)]"
            ]
          },
          "metadata": {
            "tags": []
          },
          "execution_count": 20
        }
      ]
    },
    {
      "cell_type": "code",
      "metadata": {
        "execution": {
          "iopub.status.busy": "2021-07-04T04:31:50.041327Z",
          "iopub.execute_input": "2021-07-04T04:31:50.041900Z",
          "iopub.status.idle": "2021-07-04T04:32:11.578132Z",
          "shell.execute_reply.started": "2021-07-04T04:31:50.041857Z",
          "shell.execute_reply": "2021-07-04T04:32:11.576118Z"
        },
        "trusted": true,
        "id": "WuKMieYIe217",
        "outputId": "3a2b69e2-32d8-4f14-a26b-d8a3b2a73773"
      },
      "source": [
        "tokenizer = Tokenizer()\n",
        "tokenizer.fit_on_texts(df_train.text)\n",
        "\n",
        "vocab_size = len(tokenizer.word_index) + 1\n",
        "print(\"Total words\", vocab_size)"
      ],
      "execution_count": null,
      "outputs": [
        {
          "output_type": "stream",
          "text": [
            "Total words 290419\n"
          ],
          "name": "stdout"
        }
      ]
    },
    {
      "cell_type": "code",
      "metadata": {
        "execution": {
          "iopub.status.busy": "2021-07-03T22:28:38.220888Z",
          "iopub.execute_input": "2021-07-03T22:28:38.221253Z",
          "iopub.status.idle": "2021-07-03T22:29:08.222469Z",
          "shell.execute_reply.started": "2021-07-03T22:28:38.221214Z",
          "shell.execute_reply": "2021-07-03T22:29:08.221592Z"
        },
        "trusted": true,
        "id": "4uRqoxTAe219"
      },
      "source": [
        "x_train = pad_sequences(tokenizer.texts_to_sequences(df_train.text), maxlen=SEQUENCE_LENGTH)\n",
        "x_test = pad_sequences(tokenizer.texts_to_sequences(df_test.text), maxlen=SEQUENCE_LENGTH)"
      ],
      "execution_count": null,
      "outputs": []
    },
    {
      "cell_type": "code",
      "metadata": {
        "execution": {
          "iopub.status.busy": "2021-07-03T22:29:08.224066Z",
          "iopub.execute_input": "2021-07-03T22:29:08.224386Z",
          "iopub.status.idle": "2021-07-03T22:29:08.314721Z",
          "shell.execute_reply.started": "2021-07-03T22:29:08.224354Z",
          "shell.execute_reply": "2021-07-03T22:29:08.313784Z"
        },
        "trusted": true,
        "id": "cCecTWb5e219",
        "outputId": "6f9daa98-b6b3-44ba-cf8b-d31c6293ea17"
      },
      "source": [
        "labels = df_train.target.unique().tolist()\n",
        "labels.append(NEUTRAL)\n",
        "labels"
      ],
      "execution_count": null,
      "outputs": [
        {
          "output_type": "execute_result",
          "data": {
            "text/plain": [
              "['POSITIVE', 'NEGATIVE', 'NEUTRAL']"
            ]
          },
          "metadata": {
            "tags": []
          },
          "execution_count": 24
        }
      ]
    },
    {
      "cell_type": "code",
      "metadata": {
        "execution": {
          "iopub.status.busy": "2021-07-03T22:29:29.296661Z",
          "iopub.execute_input": "2021-07-03T22:29:29.297012Z",
          "iopub.status.idle": "2021-07-03T22:29:29.308502Z",
          "shell.execute_reply.started": "2021-07-03T22:29:29.296978Z",
          "shell.execute_reply": "2021-07-03T22:29:29.307427Z"
        },
        "trusted": true,
        "id": "BByMBduve219",
        "outputId": "90b9bb10-29ab-4525-c762-76b2208fc108"
      },
      "source": [
        "df_train.head()"
      ],
      "execution_count": null,
      "outputs": [
        {
          "output_type": "execute_result",
          "data": {
            "text/plain": [
              "           target         ids                          date      flag  \\\n",
              "1374558  POSITIVE  2051457557  Fri Jun 05 22:04:23 PDT 2009  NO_QUERY   \n",
              "1389115  POSITIVE  2053083567  Sat Jun 06 03:12:21 PDT 2009  NO_QUERY   \n",
              "1137831  POSITIVE  1976779404  Sat May 30 19:02:49 PDT 2009  NO_QUERY   \n",
              "790714   NEGATIVE  2325739990  Thu Jun 25 05:59:18 PDT 2009  NO_QUERY   \n",
              "1117911  POSITIVE  1973503391  Sat May 30 11:16:35 PDT 2009  NO_QUERY   \n",
              "\n",
              "                  user                                               text  \n",
              "1374558  JGoldsborough  ya quot like palm pre touchstone charger ready...  \n",
              "1389115         Psioui          felt earthquake afternoon seems epicenter  \n",
              "1137831      adriville                          ruffles shirts like likey  \n",
              "790714      Blondie128  pretty bad night crappy morning fml buttface d...  \n",
              "1117911       khrabrov                                    yeah clear view  "
            ],
            "text/html": [
              "<div>\n",
              "<style scoped>\n",
              "    .dataframe tbody tr th:only-of-type {\n",
              "        vertical-align: middle;\n",
              "    }\n",
              "\n",
              "    .dataframe tbody tr th {\n",
              "        vertical-align: top;\n",
              "    }\n",
              "\n",
              "    .dataframe thead th {\n",
              "        text-align: right;\n",
              "    }\n",
              "</style>\n",
              "<table border=\"1\" class=\"dataframe\">\n",
              "  <thead>\n",
              "    <tr style=\"text-align: right;\">\n",
              "      <th></th>\n",
              "      <th>target</th>\n",
              "      <th>ids</th>\n",
              "      <th>date</th>\n",
              "      <th>flag</th>\n",
              "      <th>user</th>\n",
              "      <th>text</th>\n",
              "    </tr>\n",
              "  </thead>\n",
              "  <tbody>\n",
              "    <tr>\n",
              "      <th>1374558</th>\n",
              "      <td>POSITIVE</td>\n",
              "      <td>2051457557</td>\n",
              "      <td>Fri Jun 05 22:04:23 PDT 2009</td>\n",
              "      <td>NO_QUERY</td>\n",
              "      <td>JGoldsborough</td>\n",
              "      <td>ya quot like palm pre touchstone charger ready...</td>\n",
              "    </tr>\n",
              "    <tr>\n",
              "      <th>1389115</th>\n",
              "      <td>POSITIVE</td>\n",
              "      <td>2053083567</td>\n",
              "      <td>Sat Jun 06 03:12:21 PDT 2009</td>\n",
              "      <td>NO_QUERY</td>\n",
              "      <td>Psioui</td>\n",
              "      <td>felt earthquake afternoon seems epicenter</td>\n",
              "    </tr>\n",
              "    <tr>\n",
              "      <th>1137831</th>\n",
              "      <td>POSITIVE</td>\n",
              "      <td>1976779404</td>\n",
              "      <td>Sat May 30 19:02:49 PDT 2009</td>\n",
              "      <td>NO_QUERY</td>\n",
              "      <td>adriville</td>\n",
              "      <td>ruffles shirts like likey</td>\n",
              "    </tr>\n",
              "    <tr>\n",
              "      <th>790714</th>\n",
              "      <td>NEGATIVE</td>\n",
              "      <td>2325739990</td>\n",
              "      <td>Thu Jun 25 05:59:18 PDT 2009</td>\n",
              "      <td>NO_QUERY</td>\n",
              "      <td>Blondie128</td>\n",
              "      <td>pretty bad night crappy morning fml buttface d...</td>\n",
              "    </tr>\n",
              "    <tr>\n",
              "      <th>1117911</th>\n",
              "      <td>POSITIVE</td>\n",
              "      <td>1973503391</td>\n",
              "      <td>Sat May 30 11:16:35 PDT 2009</td>\n",
              "      <td>NO_QUERY</td>\n",
              "      <td>khrabrov</td>\n",
              "      <td>yeah clear view</td>\n",
              "    </tr>\n",
              "  </tbody>\n",
              "</table>\n",
              "</div>"
            ]
          },
          "metadata": {
            "tags": []
          },
          "execution_count": 25
        }
      ]
    },
    {
      "cell_type": "code",
      "metadata": {
        "execution": {
          "iopub.status.busy": "2021-07-03T22:29:32.337796Z",
          "iopub.execute_input": "2021-07-03T22:29:32.338154Z",
          "iopub.status.idle": "2021-07-03T22:29:34.328360Z",
          "shell.execute_reply.started": "2021-07-03T22:29:32.338122Z",
          "shell.execute_reply": "2021-07-03T22:29:34.327368Z"
        },
        "trusted": true,
        "id": "ZooFOn6Ze219",
        "outputId": "6e5fc0fd-ce9e-49f1-dc62-f3afc750f2fe"
      },
      "source": [
        "encoder = LabelEncoder()\n",
        "encoder.fit(df_train.target.tolist())\n",
        "\n",
        "y_train = encoder.transform(df_train.target.tolist())\n",
        "y_test = encoder.transform(df_test.target.tolist())\n",
        "\n",
        "y_train = y_train.reshape(-1,1)\n",
        "y_test = y_test.reshape(-1,1)\n",
        "\n",
        "print(\"y_train\",y_train.shape)\n",
        "print(\"y_test\",y_test.shape)"
      ],
      "execution_count": null,
      "outputs": [
        {
          "output_type": "stream",
          "text": [
            "y_train (1280000, 1)\n",
            "y_test (320000, 1)\n"
          ],
          "name": "stdout"
        }
      ]
    },
    {
      "cell_type": "code",
      "metadata": {
        "execution": {
          "iopub.status.busy": "2021-07-03T22:29:38.300125Z",
          "iopub.execute_input": "2021-07-03T22:29:38.300444Z",
          "iopub.status.idle": "2021-07-03T22:29:38.756466Z",
          "shell.execute_reply.started": "2021-07-03T22:29:38.300415Z",
          "shell.execute_reply": "2021-07-03T22:29:38.755452Z"
        },
        "trusted": true,
        "id": "zbSO4xCEe21-",
        "outputId": "c97d6eb6-a718-4cd4-804c-8c57ebdf7b6c"
      },
      "source": [
        "embedding_matrix = np.zeros((vocab_size, W2V_SIZE))\n",
        "for word, i in tokenizer.word_index.items():\n",
        "  if word in w2v_model.wv:\n",
        "    embedding_matrix[i] = w2v_model.wv[word]\n",
        "print(embedding_matrix.shape)"
      ],
      "execution_count": null,
      "outputs": [
        {
          "output_type": "stream",
          "text": [
            "(290419, 300)\n"
          ],
          "name": "stdout"
        }
      ]
    },
    {
      "cell_type": "code",
      "metadata": {
        "execution": {
          "iopub.status.busy": "2021-07-03T22:29:39.966710Z",
          "iopub.execute_input": "2021-07-03T22:29:39.967046Z",
          "iopub.status.idle": "2021-07-03T22:29:39.983339Z",
          "shell.execute_reply.started": "2021-07-03T22:29:39.967013Z",
          "shell.execute_reply": "2021-07-03T22:29:39.982592Z"
        },
        "trusted": true,
        "id": "kim3dvOce21-"
      },
      "source": [
        "embedding_layer = Embedding(vocab_size, W2V_SIZE, weights=[embedding_matrix], input_length=SEQUENCE_LENGTH, trainable=False)"
      ],
      "execution_count": null,
      "outputs": []
    },
    {
      "cell_type": "code",
      "metadata": {
        "execution": {
          "iopub.status.busy": "2021-07-03T22:29:40.930257Z",
          "iopub.execute_input": "2021-07-03T22:29:40.930657Z",
          "iopub.status.idle": "2021-07-03T22:29:44.388451Z",
          "shell.execute_reply.started": "2021-07-03T22:29:40.930618Z",
          "shell.execute_reply": "2021-07-03T22:29:44.387567Z"
        },
        "trusted": true,
        "id": "R3Xc2aSRe21-",
        "outputId": "a7c87b53-906f-4157-9577-cc940ff965fe"
      },
      "source": [
        "model = Sequential()\n",
        "model.add(embedding_layer)\n",
        "model.add(Dropout(0.5))\n",
        "model.add(LSTM(100, dropout=0.2, recurrent_dropout=0.2))\n",
        "model.add(Dense(1, activation='sigmoid'))\n",
        "\n",
        "model.summary()"
      ],
      "execution_count": null,
      "outputs": [
        {
          "output_type": "stream",
          "text": [
            "Model: \"sequential\"\n",
            "_________________________________________________________________\n",
            "Layer (type)                 Output Shape              Param #   \n",
            "=================================================================\n",
            "embedding (Embedding)        (None, 300, 300)          87125700  \n",
            "_________________________________________________________________\n",
            "dropout (Dropout)            (None, 300, 300)          0         \n",
            "_________________________________________________________________\n",
            "lstm (LSTM)                  (None, 100)               160400    \n",
            "_________________________________________________________________\n",
            "dense (Dense)                (None, 1)                 101       \n",
            "=================================================================\n",
            "Total params: 87,286,201\n",
            "Trainable params: 160,501\n",
            "Non-trainable params: 87,125,700\n",
            "_________________________________________________________________\n"
          ],
          "name": "stdout"
        }
      ]
    },
    {
      "cell_type": "code",
      "metadata": {
        "execution": {
          "iopub.status.busy": "2021-07-03T22:29:45.605434Z",
          "iopub.execute_input": "2021-07-03T22:29:45.605763Z",
          "iopub.status.idle": "2021-07-03T22:29:45.621075Z",
          "shell.execute_reply.started": "2021-07-03T22:29:45.605732Z",
          "shell.execute_reply": "2021-07-03T22:29:45.620084Z"
        },
        "trusted": true,
        "id": "nBFYaPQue21_"
      },
      "source": [
        "model.compile(loss='binary_crossentropy',\n",
        "              optimizer=\"adam\",\n",
        "              metrics=['accuracy'])"
      ],
      "execution_count": null,
      "outputs": []
    },
    {
      "cell_type": "code",
      "metadata": {
        "execution": {
          "iopub.status.busy": "2021-07-03T22:29:47.766332Z",
          "iopub.execute_input": "2021-07-03T22:29:47.766657Z",
          "iopub.status.idle": "2021-07-03T22:29:47.771332Z",
          "shell.execute_reply.started": "2021-07-03T22:29:47.766626Z",
          "shell.execute_reply": "2021-07-03T22:29:47.770211Z"
        },
        "trusted": true,
        "id": "tZXscBuie21_"
      },
      "source": [
        "callbacks = [ ReduceLROnPlateau(monitor='val_loss', patience=5, cooldown=0),\n",
        "              EarlyStopping(monitor='val_acc', min_delta=1e-4, patience=5)]"
      ],
      "execution_count": null,
      "outputs": []
    },
    {
      "cell_type": "code",
      "metadata": {
        "execution": {
          "iopub.status.busy": "2021-07-03T22:29:48.768422Z",
          "iopub.execute_input": "2021-07-03T22:29:48.768756Z",
          "iopub.status.idle": "2021-07-03T23:40:46.006496Z",
          "shell.execute_reply.started": "2021-07-03T22:29:48.768726Z",
          "shell.execute_reply": "2021-07-03T23:40:46.005658Z"
        },
        "trusted": true,
        "id": "RbBpx2wKe21_",
        "outputId": "65264348-c164-469b-fc12-00f22cc4ece5"
      },
      "source": [
        "history = model.fit(x_train, y_train,\n",
        "                    batch_size=BATCH_SIZE,\n",
        "                    epochs=EPOCHS,\n",
        "                    validation_split=0.1,\n",
        "                    verbose=1,\n",
        "                    callbacks=callbacks)"
      ],
      "execution_count": null,
      "outputs": [
        {
          "output_type": "stream",
          "text": [
            "Epoch 1/8\n",
            "1125/1125 [==============================] - 533s 472ms/step - loss: 0.5262 - accuracy: 0.7333 - val_loss: 0.4673 - val_accuracy: 0.7789\n",
            "Epoch 2/8\n",
            "1125/1125 [==============================] - 531s 472ms/step - loss: 0.4800 - accuracy: 0.7659 - val_loss: 0.4608 - val_accuracy: 0.7835\n",
            "Epoch 3/8\n",
            "1125/1125 [==============================] - 530s 471ms/step - loss: 0.4727 - accuracy: 0.7706 - val_loss: 0.4567 - val_accuracy: 0.7855\n",
            "Epoch 4/8\n",
            "1125/1125 [==============================] - 531s 472ms/step - loss: 0.4686 - accuracy: 0.7742 - val_loss: 0.4523 - val_accuracy: 0.7876\n",
            "Epoch 5/8\n",
            "1125/1125 [==============================] - 531s 472ms/step - loss: 0.4650 - accuracy: 0.7760 - val_loss: 0.4511 - val_accuracy: 0.7888\n",
            "Epoch 6/8\n",
            "1125/1125 [==============================] - 532s 473ms/step - loss: 0.4633 - accuracy: 0.7766 - val_loss: 0.4498 - val_accuracy: 0.7892\n",
            "Epoch 7/8\n",
            "1125/1125 [==============================] - 533s 474ms/step - loss: 0.4624 - accuracy: 0.7781 - val_loss: 0.4485 - val_accuracy: 0.7904\n",
            "Epoch 8/8\n",
            "1125/1125 [==============================] - 533s 474ms/step - loss: 0.4613 - accuracy: 0.7784 - val_loss: 0.4474 - val_accuracy: 0.7905\n"
          ],
          "name": "stdout"
        }
      ]
    },
    {
      "cell_type": "code",
      "metadata": {
        "execution": {
          "iopub.status.busy": "2021-07-03T23:48:08.952410Z",
          "iopub.execute_input": "2021-07-03T23:48:08.952746Z",
          "iopub.status.idle": "2021-07-03T23:48:55.001017Z",
          "shell.execute_reply.started": "2021-07-03T23:48:08.952716Z",
          "shell.execute_reply": "2021-07-03T23:48:55.000028Z"
        },
        "trusted": true,
        "id": "3sOfe9Dxe21_",
        "outputId": "e6d43a8d-f297-4384-9bc4-7d0dac3b68a7"
      },
      "source": [
        "score = model.evaluate(x_test, y_test, batch_size=BATCH_SIZE)\n",
        "print()\n",
        "print(\"ACCURACY:\",score[1])\n",
        "print(\"LOSS:\",score[0])"
      ],
      "execution_count": null,
      "outputs": [
        {
          "output_type": "stream",
          "text": [
            "313/313 [==============================] - 46s 145ms/step - loss: 0.4453 - accuracy: 0.7912\n",
            "\n",
            "ACCURACY: 0.7912187576293945\n",
            "LOSS: 0.44532835483551025\n"
          ],
          "name": "stdout"
        }
      ]
    },
    {
      "cell_type": "code",
      "metadata": {
        "execution": {
          "iopub.status.busy": "2021-07-03T23:50:12.682488Z",
          "iopub.execute_input": "2021-07-03T23:50:12.682805Z",
          "iopub.status.idle": "2021-07-03T23:50:13.002429Z",
          "shell.execute_reply.started": "2021-07-03T23:50:12.682774Z",
          "shell.execute_reply": "2021-07-03T23:50:13.001424Z"
        },
        "trusted": true,
        "id": "YdFMXR56e22A",
        "outputId": "93f285a8-dc54-414b-d1b5-dbeca11707e8"
      },
      "source": [
        "acc = history.history['accuracy']\n",
        "val_acc = history.history['val_accuracy']\n",
        "loss = history.history['loss']\n",
        "val_loss = history.history['val_loss']\n",
        " \n",
        "epochs = range(len(acc))\n",
        " \n",
        "plt.plot(epochs, acc, 'b', label='Training acc')\n",
        "plt.plot(epochs, val_acc, 'r', label='Validation acc')\n",
        "plt.title('Training and validation accuracy')\n",
        "plt.legend()\n",
        " \n",
        "plt.figure()\n",
        " \n",
        "plt.plot(epochs, loss, 'b', label='Training loss')\n",
        "plt.plot(epochs, val_loss, 'r', label='Validation loss')\n",
        "plt.title('Training and validation loss')\n",
        "plt.legend()\n",
        " \n",
        "plt.show()"
      ],
      "execution_count": null,
      "outputs": [
        {
          "output_type": "display_data",
          "data": {
            "text/plain": [
              "<Figure size 432x288 with 1 Axes>"
            ],
            "image/png": "[encoded data removed]"
          },
          "metadata": {
            "tags": [],
            "needs_background": "light"
          }
        },
        {
          "output_type": "display_data",
          "data": {
            "text/plain": [
              "<Figure size 432x288 with 1 Axes>"
            ],
            "image/png": "[encoded data removed]"
          },
          "metadata": {
            "tags": [],
            "needs_background": "light"
          }
        }
      ]
    },
    {
      "cell_type": "code",
      "metadata": {
        "execution": {
          "iopub.status.busy": "2021-07-03T23:51:01.836515Z",
          "iopub.execute_input": "2021-07-03T23:51:01.836833Z",
          "iopub.status.idle": "2021-07-03T23:51:01.842439Z",
          "shell.execute_reply.started": "2021-07-03T23:51:01.836803Z",
          "shell.execute_reply": "2021-07-03T23:51:01.841168Z"
        },
        "trusted": true,
        "id": "b6KMoB0me22A"
      },
      "source": [
        "def decode_sentiment(score, include_neutral=True):\n",
        "    if include_neutral:        \n",
        "        label = NEUTRAL\n",
        "        if score <= SENTIMENT_THRESHOLDS[0]:\n",
        "            label = NEGATIVE\n",
        "        elif score >= SENTIMENT_THRESHOLDS[1]:\n",
        "            label = POSITIVE\n",
        "\n",
        "        return label\n",
        "    else:\n",
        "        return NEGATIVE if score < 0.5 else POSITIVE"
      ],
      "execution_count": null,
      "outputs": []
    },
    {
      "cell_type": "code",
      "metadata": {
        "execution": {
          "iopub.status.busy": "2021-07-03T23:51:15.240846Z",
          "iopub.execute_input": "2021-07-03T23:51:15.241220Z",
          "iopub.status.idle": "2021-07-03T23:51:15.248791Z",
          "shell.execute_reply.started": "2021-07-03T23:51:15.241188Z",
          "shell.execute_reply": "2021-07-03T23:51:15.247979Z"
        },
        "trusted": true,
        "id": "q6SJYX76e22B"
      },
      "source": [
        "def predict(text, include_neutral=True):\n",
        "    start_at = time.time()\n",
        "    # Tokenize text\n",
        "    x_test = pad_sequences(tokenizer.texts_to_sequences([text]), maxlen=SEQUENCE_LENGTH)\n",
        "    # Predict\n",
        "    score = model.predict([x_test])[0]\n",
        "    # Decode sentiment\n",
        "    label = decode_sentiment(score, include_neutral=include_neutral)\n",
        "\n",
        "    return {\"label\": label, \"score\": float(score),\n",
        "       \"elapsed_time\": time.time()-start_at}  "
      ],
      "execution_count": null,
      "outputs": []
    },
    {
      "cell_type": "code",
      "metadata": {
        "execution": {
          "iopub.status.busy": "2021-07-03T23:51:48.150141Z",
          "iopub.execute_input": "2021-07-03T23:51:48.150462Z",
          "iopub.status.idle": "2021-07-03T23:51:48.469058Z",
          "shell.execute_reply.started": "2021-07-03T23:51:48.150429Z",
          "shell.execute_reply": "2021-07-03T23:51:48.468205Z"
        },
        "trusted": true,
        "id": "4WembWWZe22B",
        "outputId": "c6ef164f-5f74-4604-facd-ee6a28e641f7"
      },
      "source": [
        "predict(\"I love the music\")\n"
      ],
      "execution_count": null,
      "outputs": [
        {
          "output_type": "execute_result",
          "data": {
            "text/plain": [
              "{'label': 'POSITIVE',\n",
              " 'score': 0.9704129695892334,\n",
              " 'elapsed_time': 0.3119192123413086}"
            ]
          },
          "metadata": {
            "tags": []
          },
          "execution_count": 39
        }
      ]
    },
    {
      "cell_type": "code",
      "metadata": {
        "execution": {
          "iopub.status.busy": "2021-07-03T23:53:08.374653Z",
          "iopub.execute_input": "2021-07-03T23:53:08.375023Z",
          "iopub.status.idle": "2021-07-03T23:53:08.482206Z",
          "shell.execute_reply.started": "2021-07-03T23:53:08.374988Z",
          "shell.execute_reply": "2021-07-03T23:53:08.481452Z"
        },
        "trusted": true,
        "id": "4pU4Yx-Ee22B",
        "outputId": "d1b8a6c0-c83b-4624-b6d7-ea6ebbbf7b3f"
      },
      "source": [
        "predict(\"First Born Check in on your Tweets.\")\n"
      ],
      "execution_count": null,
      "outputs": [
        {
          "output_type": "execute_result",
          "data": {
            "text/plain": [
              "{'label': 'POSITIVE',\n",
              " 'score': 0.9792101979255676,\n",
              " 'elapsed_time': 0.10111522674560547}"
            ]
          },
          "metadata": {
            "tags": []
          },
          "execution_count": 43
        }
      ]
    },
    {
      "cell_type": "code",
      "metadata": {
        "id": "37D_Vecke22C"
      },
      "source": [
        ""
      ],
      "execution_count": null,
      "outputs": []
    }
  ]
}